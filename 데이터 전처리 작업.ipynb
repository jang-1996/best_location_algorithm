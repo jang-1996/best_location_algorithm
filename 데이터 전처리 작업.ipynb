{
 "cells": [
  {
   "cell_type": "code",
   "execution_count": 1,
   "id": "781b5017",
   "metadata": {},
   "outputs": [],
   "source": [
    "import numpy as np\n",
    "import pandas as pd"
   ]
  },
  {
   "cell_type": "code",
   "execution_count": 2,
   "id": "8f0e3caa",
   "metadata": {},
   "outputs": [],
   "source": [
    "df_demand = pd.read_csv(r\"C:\\Users\\Jang\\Desktop\\project\\demand_center.csv\",encoding=\"cp949\")\n",
    "df_candi = pd.read_csv(r\"C:\\Users\\Jang\\Desktop\\project\\real_last_dataframe___please.csv\",encoding=\"cp949\")\n",
    "df_demand.drop([\"geometry\",\"change_geometry\"],axis = 1,inplace=True)"
   ]
  },
  {
   "cell_type": "code",
   "execution_count": 3,
   "id": "e54b817e",
   "metadata": {},
   "outputs": [
    {
     "data": {
      "text/html": [
       "<div>\n",
       "<style scoped>\n",
       "    .dataframe tbody tr th:only-of-type {\n",
       "        vertical-align: middle;\n",
       "    }\n",
       "\n",
       "    .dataframe tbody tr th {\n",
       "        vertical-align: top;\n",
       "    }\n",
       "\n",
       "    .dataframe thead th {\n",
       "        text-align: right;\n",
       "    }\n",
       "</style>\n",
       "<table border=\"1\" class=\"dataframe\">\n",
       "  <thead>\n",
       "    <tr style=\"text-align: right;\">\n",
       "      <th></th>\n",
       "      <th>val</th>\n",
       "      <th>위도</th>\n",
       "      <th>경도</th>\n",
       "    </tr>\n",
       "  </thead>\n",
       "  <tbody>\n",
       "    <tr>\n",
       "      <th>0</th>\n",
       "      <td>214</td>\n",
       "      <td>37.463657</td>\n",
       "      <td>126.912672</td>\n",
       "    </tr>\n",
       "  </tbody>\n",
       "</table>\n",
       "</div>"
      ],
      "text/plain": [
       "   val         위도          경도\n",
       "0  214  37.463657  126.912672"
      ]
     },
     "execution_count": 3,
     "metadata": {},
     "output_type": "execute_result"
    }
   ],
   "source": [
    "df_demand.head(1)"
   ]
  },
  {
   "cell_type": "code",
   "execution_count": 4,
   "id": "420c692e",
   "metadata": {},
   "outputs": [
    {
     "data": {
      "text/html": [
       "<div>\n",
       "<style scoped>\n",
       "    .dataframe tbody tr th:only-of-type {\n",
       "        vertical-align: middle;\n",
       "    }\n",
       "\n",
       "    .dataframe tbody tr th {\n",
       "        vertical-align: top;\n",
       "    }\n",
       "\n",
       "    .dataframe thead th {\n",
       "        text-align: right;\n",
       "    }\n",
       "</style>\n",
       "<table border=\"1\" class=\"dataframe\">\n",
       "  <thead>\n",
       "    <tr style=\"text-align: right;\">\n",
       "      <th></th>\n",
       "      <th>name</th>\n",
       "      <th>위도</th>\n",
       "      <th>경도</th>\n",
       "      <th>유형</th>\n",
       "      <th>유동인구</th>\n",
       "      <th>후보지-쓰레기통</th>\n",
       "      <th>후보지-슈퍼빈</th>\n",
       "      <th>동</th>\n",
       "      <th>1인가구수</th>\n",
       "      <th>유동인구 예상 쓰레기배출량</th>\n",
       "      <th>1인가구수 예상 쓰레기배출량</th>\n",
       "      <th>지역 평균 임대료</th>\n",
       "      <th>1000m restaurant</th>\n",
       "      <th>3000m cluture</th>\n",
       "      <th>3000m hotel</th>\n",
       "    </tr>\n",
       "  </thead>\n",
       "  <tbody>\n",
       "    <tr>\n",
       "      <th>0</th>\n",
       "      <td>사당</td>\n",
       "      <td>37.47653</td>\n",
       "      <td>126.981685</td>\n",
       "      <td>지하철</td>\n",
       "      <td>416</td>\n",
       "      <td>2.559308</td>\n",
       "      <td>2.047179</td>\n",
       "      <td>남현동</td>\n",
       "      <td>8579</td>\n",
       "      <td>307.09536</td>\n",
       "      <td>6333.10359</td>\n",
       "      <td>141991</td>\n",
       "      <td>45</td>\n",
       "      <td>0</td>\n",
       "      <td>0</td>\n",
       "    </tr>\n",
       "  </tbody>\n",
       "</table>\n",
       "</div>"
      ],
      "text/plain": [
       "  name        위도          경도   유형  유동인구  후보지-쓰레기통   후보지-슈퍼빈    동  1인가구수  \\\n",
       "0   사당  37.47653  126.981685  지하철   416  2.559308  2.047179  남현동   8579   \n",
       "\n",
       "   유동인구 예상 쓰레기배출량  1인가구수 예상 쓰레기배출량  지역 평균 임대료  1000m restaurant  \\\n",
       "0       307.09536       6333.10359     141991                45   \n",
       "\n",
       "   3000m cluture  3000m hotel  \n",
       "0              0            0  "
      ]
     },
     "execution_count": 4,
     "metadata": {},
     "output_type": "execute_result"
    }
   ],
   "source": [
    "df_candi.head(1)"
   ]
  },
  {
   "cell_type": "markdown",
   "id": "bef67d73",
   "metadata": {},
   "source": [
    "# 스케일링"
   ]
  },
  {
   "cell_type": "code",
   "execution_count": 5,
   "id": "ce1195de",
   "metadata": {},
   "outputs": [],
   "source": [
    "from sklearn.preprocessing import MinMaxScaler"
   ]
  },
  {
   "cell_type": "code",
   "execution_count": 6,
   "id": "a5e02f3c",
   "metadata": {
    "scrolled": true
   },
   "outputs": [
    {
     "data": {
      "text/html": [
       "<div>\n",
       "<style scoped>\n",
       "    .dataframe tbody tr th:only-of-type {\n",
       "        vertical-align: middle;\n",
       "    }\n",
       "\n",
       "    .dataframe tbody tr th {\n",
       "        vertical-align: top;\n",
       "    }\n",
       "\n",
       "    .dataframe thead th {\n",
       "        text-align: right;\n",
       "    }\n",
       "</style>\n",
       "<table border=\"1\" class=\"dataframe\">\n",
       "  <thead>\n",
       "    <tr style=\"text-align: right;\">\n",
       "      <th></th>\n",
       "      <th>name</th>\n",
       "      <th>위도</th>\n",
       "      <th>경도</th>\n",
       "      <th>유형</th>\n",
       "      <th>유동인구</th>\n",
       "      <th>후보지-쓰레기통</th>\n",
       "      <th>후보지-슈퍼빈</th>\n",
       "      <th>동</th>\n",
       "      <th>1인가구수</th>\n",
       "      <th>유동인구 예상 쓰레기배출량</th>\n",
       "      <th>1인가구수 예상 쓰레기배출량</th>\n",
       "      <th>지역 평균 임대료</th>\n",
       "      <th>1000m restaurant</th>\n",
       "      <th>3000m cluture</th>\n",
       "      <th>3000m hotel</th>\n",
       "    </tr>\n",
       "  </thead>\n",
       "  <tbody>\n",
       "    <tr>\n",
       "      <th>0</th>\n",
       "      <td>사당</td>\n",
       "      <td>37.47653</td>\n",
       "      <td>126.981685</td>\n",
       "      <td>지하철</td>\n",
       "      <td>0.303871</td>\n",
       "      <td>0.903307</td>\n",
       "      <td>0.808901</td>\n",
       "      <td>남현동</td>\n",
       "      <td>0.189441</td>\n",
       "      <td>0.303871</td>\n",
       "      <td>0.189441</td>\n",
       "      <td>0.916795</td>\n",
       "      <td>0.026923</td>\n",
       "      <td>0.0</td>\n",
       "      <td>0.0</td>\n",
       "    </tr>\n",
       "  </tbody>\n",
       "</table>\n",
       "</div>"
      ],
      "text/plain": [
       "  name        위도          경도   유형      유동인구  후보지-쓰레기통   후보지-슈퍼빈    동  \\\n",
       "0   사당  37.47653  126.981685  지하철  0.303871  0.903307  0.808901  남현동   \n",
       "\n",
       "      1인가구수  유동인구 예상 쓰레기배출량  1인가구수 예상 쓰레기배출량  지역 평균 임대료  1000m restaurant  \\\n",
       "0  0.189441        0.303871         0.189441   0.916795          0.026923   \n",
       "\n",
       "   3000m cluture  3000m hotel  \n",
       "0            0.0          0.0  "
      ]
     },
     "execution_count": 6,
     "metadata": {},
     "output_type": "execute_result"
    }
   ],
   "source": [
    "scaler = MinMaxScaler()\n",
    "scaler.fit(df_candi.loc[:,[\"유동인구\",\"후보지-쓰레기통\",\"후보지-슈퍼빈\",\"1인가구수\",\"유동인구 예상 쓰레기배출량\",\"1인가구수 예상 쓰레기배출량\",\"지역 평균 임대료\",\"1000m restaurant\",\"3000m cluture\", \"3000m hotel\"]])\n",
    "df_candi.loc[:,[\"유동인구\",\"후보지-쓰레기통\",\"후보지-슈퍼빈\",\"1인가구수\",\"유동인구 예상 쓰레기배출량\",\"1인가구수 예상 쓰레기배출량\",\"지역 평균 임대료\",\"1000m restaurant\",\"3000m cluture\", \"3000m hotel\"]] = scaler.transform(df_candi.loc[:,[\"유동인구\",\"후보지-쓰레기통\",\"후보지-슈퍼빈\",\"1인가구수\",\"유동인구 예상 쓰레기배출량\",\"1인가구수 예상 쓰레기배출량\",\"지역 평균 임대료\",\"1000m restaurant\",\"3000m cluture\", \"3000m hotel\"]])\n",
    "df_candi.head(1)"
   ]
  },
  {
   "cell_type": "markdown",
   "id": "786d317f",
   "metadata": {},
   "source": [
    "# 인코딩"
   ]
  },
  {
   "cell_type": "code",
   "execution_count": 7,
   "id": "027fffc5",
   "metadata": {},
   "outputs": [],
   "source": [
    "from sklearn.preprocessing import LabelEncoder"
   ]
  },
  {
   "cell_type": "code",
   "execution_count": 8,
   "id": "03b250c6",
   "metadata": {},
   "outputs": [],
   "source": [
    "ordinals = [\"유형\", \"동\"]\n",
    "for ord in ordinals:\n",
    "    # ord 컬럼에 대해서 인코딩할 규칙용 모델..\n",
    "    le = LabelEncoder()\n",
    "    # 규칙\n",
    "    le.fit(df_candi[ord])\n",
    "    # train 데이터에 변환 적용!!!! a ->1, d (X)\n",
    "    df_candi[ord] = le.transform(df_candi[ord]) "
   ]
  },
  {
   "cell_type": "code",
   "execution_count": 9,
   "id": "8b40e812",
   "metadata": {},
   "outputs": [
    {
     "data": {
      "text/html": [
       "<div>\n",
       "<style scoped>\n",
       "    .dataframe tbody tr th:only-of-type {\n",
       "        vertical-align: middle;\n",
       "    }\n",
       "\n",
       "    .dataframe tbody tr th {\n",
       "        vertical-align: top;\n",
       "    }\n",
       "\n",
       "    .dataframe thead th {\n",
       "        text-align: right;\n",
       "    }\n",
       "</style>\n",
       "<table border=\"1\" class=\"dataframe\">\n",
       "  <thead>\n",
       "    <tr style=\"text-align: right;\">\n",
       "      <th></th>\n",
       "      <th>name</th>\n",
       "      <th>위도</th>\n",
       "      <th>경도</th>\n",
       "      <th>유형</th>\n",
       "      <th>유동인구</th>\n",
       "      <th>후보지-쓰레기통</th>\n",
       "      <th>후보지-슈퍼빈</th>\n",
       "      <th>동</th>\n",
       "      <th>1인가구수</th>\n",
       "      <th>유동인구 예상 쓰레기배출량</th>\n",
       "      <th>1인가구수 예상 쓰레기배출량</th>\n",
       "      <th>지역 평균 임대료</th>\n",
       "      <th>1000m restaurant</th>\n",
       "      <th>3000m cluture</th>\n",
       "      <th>3000m hotel</th>\n",
       "    </tr>\n",
       "  </thead>\n",
       "  <tbody>\n",
       "    <tr>\n",
       "      <th>0</th>\n",
       "      <td>사당</td>\n",
       "      <td>37.47653</td>\n",
       "      <td>126.981685</td>\n",
       "      <td>2</td>\n",
       "      <td>0.303871</td>\n",
       "      <td>0.903307</td>\n",
       "      <td>0.808901</td>\n",
       "      <td>0</td>\n",
       "      <td>0.189441</td>\n",
       "      <td>0.303871</td>\n",
       "      <td>0.189441</td>\n",
       "      <td>0.916795</td>\n",
       "      <td>0.026923</td>\n",
       "      <td>0.0</td>\n",
       "      <td>0.0</td>\n",
       "    </tr>\n",
       "  </tbody>\n",
       "</table>\n",
       "</div>"
      ],
      "text/plain": [
       "  name        위도          경도  유형      유동인구  후보지-쓰레기통   후보지-슈퍼빈  동     1인가구수  \\\n",
       "0   사당  37.47653  126.981685   2  0.303871  0.903307  0.808901  0  0.189441   \n",
       "\n",
       "   유동인구 예상 쓰레기배출량  1인가구수 예상 쓰레기배출량  지역 평균 임대료  1000m restaurant  \\\n",
       "0        0.303871         0.189441   0.916795          0.026923   \n",
       "\n",
       "   3000m cluture  3000m hotel  \n",
       "0            0.0          0.0  "
      ]
     },
     "execution_count": 9,
     "metadata": {},
     "output_type": "execute_result"
    }
   ],
   "source": [
    "df_candi.head(1)"
   ]
  },
  {
   "cell_type": "code",
   "execution_count": null,
   "id": "0c8fd038",
   "metadata": {},
   "outputs": [],
   "source": []
  },
  {
   "cell_type": "markdown",
   "id": "9d5d783f",
   "metadata": {},
   "source": [
    "# 타겟 설정 "
   ]
  },
  {
   "cell_type": "code",
   "execution_count": 10,
   "id": "d594666b",
   "metadata": {},
   "outputs": [],
   "source": [
    "df_candi[\"target\"]=\"\"\n",
    "df_candi[\"target\"] = abs(df_candi[\"유동인구 예상 쓰레기배출량\"]+df_candi[\"1인가구수 예상 쓰레기배출량\"] -df_candi[\"지역 평균 임대료\"]) "
   ]
  },
  {
   "cell_type": "code",
   "execution_count": 11,
   "id": "eb692b7d",
   "metadata": {},
   "outputs": [],
   "source": [
    "df_candi.drop([\"1인가구수 예상 쓰레기배출량\",\"유동인구 예상 쓰레기배출량\"],axis=1,inplace=True)"
   ]
  },
  {
   "cell_type": "code",
   "execution_count": 12,
   "id": "9943c231",
   "metadata": {},
   "outputs": [
    {
     "data": {
      "text/html": [
       "<div>\n",
       "<style scoped>\n",
       "    .dataframe tbody tr th:only-of-type {\n",
       "        vertical-align: middle;\n",
       "    }\n",
       "\n",
       "    .dataframe tbody tr th {\n",
       "        vertical-align: top;\n",
       "    }\n",
       "\n",
       "    .dataframe thead th {\n",
       "        text-align: right;\n",
       "    }\n",
       "</style>\n",
       "<table border=\"1\" class=\"dataframe\">\n",
       "  <thead>\n",
       "    <tr style=\"text-align: right;\">\n",
       "      <th></th>\n",
       "      <th>name</th>\n",
       "      <th>위도</th>\n",
       "      <th>경도</th>\n",
       "      <th>유형</th>\n",
       "      <th>유동인구</th>\n",
       "      <th>후보지-쓰레기통</th>\n",
       "      <th>후보지-슈퍼빈</th>\n",
       "      <th>동</th>\n",
       "      <th>1인가구수</th>\n",
       "      <th>지역 평균 임대료</th>\n",
       "      <th>1000m restaurant</th>\n",
       "      <th>3000m cluture</th>\n",
       "      <th>3000m hotel</th>\n",
       "      <th>target</th>\n",
       "    </tr>\n",
       "  </thead>\n",
       "  <tbody>\n",
       "    <tr>\n",
       "      <th>0</th>\n",
       "      <td>사당</td>\n",
       "      <td>37.47653</td>\n",
       "      <td>126.981685</td>\n",
       "      <td>2</td>\n",
       "      <td>0.303871</td>\n",
       "      <td>0.903307</td>\n",
       "      <td>0.808901</td>\n",
       "      <td>0</td>\n",
       "      <td>0.189441</td>\n",
       "      <td>0.916795</td>\n",
       "      <td>0.026923</td>\n",
       "      <td>0.00</td>\n",
       "      <td>0.00</td>\n",
       "      <td>0.423482</td>\n",
       "    </tr>\n",
       "    <tr>\n",
       "      <th>1</th>\n",
       "      <td>낙성대</td>\n",
       "      <td>37.47693</td>\n",
       "      <td>126.963693</td>\n",
       "      <td>2</td>\n",
       "      <td>0.130022</td>\n",
       "      <td>0.392739</td>\n",
       "      <td>0.181043</td>\n",
       "      <td>1</td>\n",
       "      <td>0.496534</td>\n",
       "      <td>0.704463</td>\n",
       "      <td>0.475000</td>\n",
       "      <td>0.25</td>\n",
       "      <td>0.25</td>\n",
       "      <td>0.077907</td>\n",
       "    </tr>\n",
       "  </tbody>\n",
       "</table>\n",
       "</div>"
      ],
      "text/plain": [
       "  name        위도          경도  유형      유동인구  후보지-쓰레기통   후보지-슈퍼빈  동     1인가구수  \\\n",
       "0   사당  37.47653  126.981685   2  0.303871  0.903307  0.808901  0  0.189441   \n",
       "1  낙성대  37.47693  126.963693   2  0.130022  0.392739  0.181043  1  0.496534   \n",
       "\n",
       "   지역 평균 임대료  1000m restaurant  3000m cluture  3000m hotel    target  \n",
       "0   0.916795          0.026923           0.00         0.00  0.423482  \n",
       "1   0.704463          0.475000           0.25         0.25  0.077907  "
      ]
     },
     "execution_count": 12,
     "metadata": {},
     "output_type": "execute_result"
    }
   ],
   "source": [
    "df_candi.head(2)"
   ]
  },
  {
   "cell_type": "code",
   "execution_count": 13,
   "id": "f2d909f8",
   "metadata": {},
   "outputs": [],
   "source": [
    "df_candi.to_csv(\"dataset.csv\", index = False, encoding=\"cp949\")"
   ]
  },
  {
   "cell_type": "code",
   "execution_count": 14,
   "id": "cf2a2145",
   "metadata": {},
   "outputs": [],
   "source": [
    "df_demand.to_csv(\"demand_list.csv\", index = False, encoding=\"cp949\")"
   ]
  },
  {
   "cell_type": "code",
   "execution_count": null,
   "id": "7935c61d",
   "metadata": {},
   "outputs": [],
   "source": []
  }
 ],
 "metadata": {
  "kernelspec": {
   "display_name": "Python 3 (ipykernel)",
   "language": "python",
   "name": "python3"
  },
  "language_info": {
   "codemirror_mode": {
    "name": "ipython",
    "version": 3
   },
   "file_extension": ".py",
   "mimetype": "text/x-python",
   "name": "python",
   "nbconvert_exporter": "python",
   "pygments_lexer": "ipython3",
   "version": "3.9.12"
  }
 },
 "nbformat": 4,
 "nbformat_minor": 5
}
